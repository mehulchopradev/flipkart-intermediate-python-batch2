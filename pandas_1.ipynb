{
 "cells": [
  {
   "cell_type": "code",
   "execution_count": 1,
   "metadata": {},
   "outputs": [],
   "source": [
    "import pandas as pd\n",
    "import numpy as np\n",
    "from pandas import Series"
   ]
  },
  {
   "cell_type": "code",
   "execution_count": 2,
   "metadata": {
    "scrolled": true
   },
   "outputs": [
    {
     "name": "stdout",
     "output_type": "stream",
     "text": [
      "0      9\n",
      "1      5\n",
      "2      6\n",
      "3     10\n",
      "4      9\n",
      "5      3\n",
      "6      4\n",
      "7      8\n",
      "8      7\n",
      "9      9\n",
      "10    10\n",
      "11     1\n",
      "12     2\n",
      "dtype: int8\n"
     ]
    }
   ],
   "source": [
    "# Series\n",
    "# 1D data\n",
    "marks = [9, 5, 6, 10, 9, 3, 4, 8, 7, 9, 10, 1, 2]\n",
    "s1 = Series(marks, dtype=np.int8)\n",
    "print(s1)"
   ]
  },
  {
   "cell_type": "code",
   "execution_count": 3,
   "metadata": {},
   "outputs": [
    {
     "name": "stdout",
     "output_type": "stream",
     "text": [
      "1      9\n",
      "10     5\n",
      "9      6\n",
      "3     10\n",
      "14     9\n",
      "20     3\n",
      "6      4\n",
      "11     8\n",
      "13     7\n",
      "34     9\n",
      "21    10\n",
      "4      1\n",
      "5      2\n",
      "dtype: int8\n"
     ]
    }
   ],
   "source": [
    "roll = [1, 10, 9, 3, 14, 20, 6, 11, 13, 34, 21, 4, 5]\n",
    "s2 = Series(marks, index=roll, dtype=np.int8)\n",
    "print(s2)"
   ]
  },
  {
   "cell_type": "code",
   "execution_count": 4,
   "metadata": {},
   "outputs": [
    {
     "name": "stdout",
     "output_type": "stream",
     "text": [
      "Int64Index([1, 10, 9, 3, 14, 20, 6, 11, 13, 34, 21, 4, 5], dtype='int64')\n",
      "[ 9  5  6 10  9  3  4  8  7  9 10  1  2]\n"
     ]
    }
   ],
   "source": [
    "print(s2.index)\n",
    "print(s2.values)"
   ]
  },
  {
   "cell_type": "code",
   "execution_count": 5,
   "metadata": {},
   "outputs": [
    {
     "name": "stdout",
     "output_type": "stream",
     "text": [
      "10\n",
      "10\n",
      "3    10\n",
      "4     1\n",
      "dtype: int8\n",
      "9\n",
      "1    9\n",
      "5    2\n",
      "dtype: int8\n"
     ]
    }
   ],
   "source": [
    "# indexing\n",
    "# get marks scored by student whose roll no is 3\n",
    "print(s2.get(3))\n",
    "print(s2.loc[3])\n",
    "print(s2.loc[[3, 4]])\n",
    "\n",
    "# indexing using the internal 0 based indexes\n",
    "# get the marks scored by thefirst student of the class\n",
    "print(s2.iloc[0])\n",
    "print(s2.iloc[[0, -1]])"
   ]
  },
  {
   "cell_type": "code",
   "execution_count": 6,
   "metadata": {},
   "outputs": [
    {
     "name": "stdout",
     "output_type": "stream",
     "text": [
      "1      9\n",
      "10     5\n",
      "9      6\n",
      "3     10\n",
      "14     9\n",
      "20     3\n",
      "6      4\n",
      "11     8\n",
      "13     7\n",
      "34     9\n",
      "21    10\n",
      "4      1\n",
      "5      2\n",
      "dtype: int8\n",
      "1      True\n",
      "10    False\n",
      "9      True\n",
      "3      True\n",
      "14     True\n",
      "20    False\n",
      "6     False\n",
      "11     True\n",
      "13     True\n",
      "34     True\n",
      "21     True\n",
      "4     False\n",
      "5     False\n",
      "dtype: bool\n"
     ]
    }
   ],
   "source": [
    "print(s2)\n",
    "print(s2 > 5)"
   ]
  },
  {
   "cell_type": "code",
   "execution_count": 7,
   "metadata": {
    "scrolled": true
   },
   "outputs": [
    {
     "name": "stdout",
     "output_type": "stream",
     "text": [
      "1      9\n",
      "9      6\n",
      "3     10\n",
      "14     9\n",
      "11     8\n",
      "13     7\n",
      "34     9\n",
      "21    10\n",
      "dtype: int8\n"
     ]
    }
   ],
   "source": [
    "# get the data of all students who have scored more than 5 marks\n",
    "s3 = s2.loc[s2 > 5]\n",
    "print(s3)"
   ]
  },
  {
   "cell_type": "code",
   "execution_count": 8,
   "metadata": {},
   "outputs": [
    {
     "name": "stdout",
     "output_type": "stream",
     "text": [
      "3     10\n",
      "21    10\n",
      "4      1\n",
      "dtype: int8\n"
     ]
    }
   ],
   "source": [
    "# get the data of all students who have scored 10 or less than 2\n",
    "s4 = s2.loc[(s2 == 10) | (s2 < 2)]\n",
    "print(s4)"
   ]
  },
  {
   "cell_type": "code",
   "execution_count": 9,
   "metadata": {},
   "outputs": [
    {
     "name": "stdout",
     "output_type": "stream",
     "text": [
      "1      9\n",
      "10     5\n",
      "9      6\n",
      "3     10\n",
      "14     9\n",
      "20     3\n",
      "6      4\n",
      "11     8\n",
      "13     7\n",
      "34     9\n",
      "21    10\n",
      "4      1\n",
      "5      2\n",
      "dtype: int8\n",
      "1      9\n",
      "10     5\n",
      "9      6\n",
      "3     10\n",
      "dtype: int8\n",
      "21    10\n",
      "4      1\n",
      "5      2\n",
      "dtype: int8\n",
      "1     9\n",
      "10    5\n",
      "9     6\n",
      "dtype: int8\n",
      "1     9\n",
      "10    5\n",
      "9     6\n",
      "dtype: int8\n"
     ]
    }
   ],
   "source": [
    "# slicing\n",
    "print(s2)\n",
    "\n",
    "# get me the marks scored by the first 4 students of the class\n",
    "print(s2.iloc[:4])\n",
    "print(s2.iloc[-3:])\n",
    "\n",
    "# get me the marks scored by roll no 1, 10, 9\n",
    "print(s2.loc[[1, 10, 9]]) # multi indexing\n",
    "print(s2.loc[1:9]) # slicing"
   ]
  },
  {
   "cell_type": "code",
   "execution_count": 10,
   "metadata": {},
   "outputs": [
    {
     "name": "stdout",
     "output_type": "stream",
     "text": [
      "1      9\n",
      "10     5\n",
      "9      6\n",
      "3     10\n",
      "14     9\n",
      "20     3\n",
      "6      4\n",
      "11     8\n",
      "13     7\n",
      "34     9\n",
      "21    10\n",
      "4      1\n",
      "5      2\n",
      "dtype: int8\n"
     ]
    }
   ],
   "source": [
    "print(s2)"
   ]
  },
  {
   "cell_type": "code",
   "execution_count": 11,
   "metadata": {},
   "outputs": [
    {
     "name": "stdout",
     "output_type": "stream",
     "text": [
      "[ 9  5  6 10  3  4  8  7  1  2]\n"
     ]
    }
   ],
   "source": [
    "print(s2.unique())"
   ]
  },
  {
   "cell_type": "code",
   "execution_count": 12,
   "metadata": {},
   "outputs": [
    {
     "name": "stdout",
     "output_type": "stream",
     "text": [
      "9     3\n",
      "10    2\n",
      "8     1\n",
      "7     1\n",
      "6     1\n",
      "5     1\n",
      "4     1\n",
      "3     1\n",
      "2     1\n",
      "1     1\n",
      "dtype: int64\n"
     ]
    }
   ],
   "source": [
    "print(s2.value_counts())"
   ]
  },
  {
   "cell_type": "code",
   "execution_count": 13,
   "metadata": {},
   "outputs": [
    {
     "name": "stdout",
     "output_type": "stream",
     "text": [
      "1      9\n",
      "10     5\n",
      "9      6\n",
      "3     10\n",
      "14     9\n",
      "20     3\n",
      "6      4\n",
      "11     8\n",
      "13     7\n",
      "34     9\n",
      "21    10\n",
      "4      1\n",
      "5      2\n",
      "dtype: int8\n"
     ]
    }
   ],
   "source": [
    "print(s2)"
   ]
  },
  {
   "cell_type": "code",
   "execution_count": 14,
   "metadata": {},
   "outputs": [
    {
     "data": {
      "text/plain": [
       "34     9\n",
       "21    10\n",
       "20     3\n",
       "14     9\n",
       "13     7\n",
       "11     8\n",
       "10     5\n",
       "9      6\n",
       "6      4\n",
       "5      2\n",
       "4      1\n",
       "3     10\n",
       "1      9\n",
       "dtype: int8"
      ]
     },
     "execution_count": 14,
     "metadata": {},
     "output_type": "execute_result"
    }
   ],
   "source": [
    "s2.sort_index(ascending=False)"
   ]
  },
  {
   "cell_type": "code",
   "execution_count": 15,
   "metadata": {},
   "outputs": [
    {
     "data": {
      "text/plain": [
       "21    10\n",
       "3     10\n",
       "34     9\n",
       "14     9\n",
       "1      9\n",
       "11     8\n",
       "13     7\n",
       "9      6\n",
       "10     5\n",
       "6      4\n",
       "20     3\n",
       "5      2\n",
       "4      1\n",
       "dtype: int8"
      ]
     },
     "execution_count": 15,
     "metadata": {},
     "output_type": "execute_result"
    }
   ],
   "source": [
    "s2.sort_values(ascending=False)"
   ]
  },
  {
   "cell_type": "code",
   "execution_count": 16,
   "metadata": {},
   "outputs": [
    {
     "name": "stdout",
     "output_type": "stream",
     "text": [
      "9     3\n",
      "10    2\n",
      "8     1\n",
      "7     1\n",
      "6     1\n",
      "5     1\n",
      "4     1\n",
      "3     1\n",
      "2     1\n",
      "1     1\n",
      "dtype: int64\n"
     ]
    }
   ],
   "source": [
    "s10 = s2.value_counts()\n",
    "print(s10)"
   ]
  },
  {
   "cell_type": "code",
   "execution_count": 17,
   "metadata": {},
   "outputs": [
    {
     "data": {
      "text/plain": [
       "<AxesSubplot:>"
      ]
     },
     "execution_count": 17,
     "metadata": {},
     "output_type": "execute_result"
    },
    {
     "data": {
      "image/png": "[encoded data removed]",
      "text/plain": [
       "<Figure size 432x288 with 1 Axes>"
      ]
     },
     "metadata": {
      "needs_background": "light"
     },
     "output_type": "display_data"
    }
   ],
   "source": [
    "s10.plot(kind='barh')"
   ]
  },
  {
   "cell_type": "code",
   "execution_count": 18,
   "metadata": {},
   "outputs": [
    {
     "data": {
      "text/plain": [
       "0    23.0\n",
       "1    24.0\n",
       "2    21.0\n",
       "3    26.0\n",
       "4    25.0\n",
       "5    27.0\n",
       "6     NaN\n",
       "7    32.0\n",
       "8    21.0\n",
       "9     NaN\n",
       "dtype: float64"
      ]
     },
     "execution_count": 18,
     "metadata": {},
     "output_type": "execute_result"
    }
   ],
   "source": [
    "temperature = [23, 24, 21, 26, 25, 27, None, 32, 21, None]\n",
    "s11 = Series(temperature)\n",
    "s11"
   ]
  },
  {
   "cell_type": "code",
   "execution_count": 19,
   "metadata": {},
   "outputs": [
    {
     "data": {
      "text/plain": [
       "0    23.0\n",
       "1    24.0\n",
       "2    21.0\n",
       "3    26.0\n",
       "4    25.0\n",
       "5    27.0\n",
       "7    32.0\n",
       "8    21.0\n",
       "dtype: float64"
      ]
     },
     "execution_count": 19,
     "metadata": {},
     "output_type": "execute_result"
    }
   ],
   "source": [
    "# drop the missing data\n",
    "s12 = s11.dropna()\n",
    "s12"
   ]
  },
  {
   "cell_type": "code",
   "execution_count": 20,
   "metadata": {},
   "outputs": [
    {
     "data": {
      "text/plain": [
       "0    23.0\n",
       "1    24.0\n",
       "2    21.0\n",
       "3    26.0\n",
       "4    25.0\n",
       "5    27.0\n",
       "6    23.0\n",
       "7    32.0\n",
       "8    21.0\n",
       "9    23.0\n",
       "dtype: float64"
      ]
     },
     "execution_count": 20,
     "metadata": {},
     "output_type": "execute_result"
    }
   ],
   "source": [
    "# fill in missing values\n",
    "s13 = s11.fillna(23)\n",
    "s13"
   ]
  },
  {
   "cell_type": "code",
   "execution_count": 21,
   "metadata": {},
   "outputs": [
    {
     "data": {
      "text/plain": [
       "0    23.0\n",
       "1    24.0\n",
       "2    21.0\n",
       "3    26.0\n",
       "4    25.0\n",
       "5    27.0\n",
       "6    27.0\n",
       "7    32.0\n",
       "8    21.0\n",
       "9    21.0\n",
       "dtype: float64"
      ]
     },
     "execution_count": 21,
     "metadata": {},
     "output_type": "execute_result"
    }
   ],
   "source": [
    "# interpolate the missing value based on previous or next value\n",
    "s14 = s11.ffill()\n",
    "s14"
   ]
  },
  {
   "cell_type": "code",
   "execution_count": 23,
   "metadata": {},
   "outputs": [
    {
     "name": "stdout",
     "output_type": "stream",
     "text": [
      "0    23.0\n",
      "1    24.0\n",
      "2    21.0\n",
      "3    26.0\n",
      "4    25.0\n",
      "5    27.0\n",
      "6     NaN\n",
      "7    32.0\n",
      "8    21.0\n",
      "9     NaN\n",
      "dtype: float64\n",
      "24.875\n"
     ]
    }
   ],
   "source": [
    "print(s11)\n",
    "print(s11.mean())"
   ]
  },
  {
   "cell_type": "code",
   "execution_count": null,
   "metadata": {},
   "outputs": [],
   "source": []
  }
 ],
 "metadata": {
  "kernelspec": {
   "display_name": "Python 3",
   "language": "python",
   "name": "python3"
  },
  "language_info": {
   "codemirror_mode": {
    "name": "ipython",
    "version": 3
   },
   "file_extension": ".py",
   "mimetype": "text/x-python",
   "name": "python",
   "nbconvert_exporter": "python",
   "pygments_lexer": "ipython3",
   "version": "3.8.6"
  }
 },
 "nbformat": 4,
 "nbformat_minor": 4
}
